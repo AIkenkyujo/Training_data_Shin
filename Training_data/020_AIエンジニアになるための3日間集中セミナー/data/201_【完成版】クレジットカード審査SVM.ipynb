{
  "nbformat": 4,
  "nbformat_minor": 0,
  "metadata": {
    "colab": {
      "name": "201_【完成版】クレジットカード審査SVM.ipynb",
      "provenance": [],
      "collapsed_sections": [],
      "toc_visible": true
    },
    "kernelspec": {
      "name": "python3",
      "display_name": "Python 3"
    }
  },
  "cells": [
    {
      "cell_type": "markdown",
      "metadata": {
        "id": "xE18kVaOSdVi",
        "colab_type": "text"
      },
      "source": [
        "# Scikit-learnでTrain.pyを作ろう"
      ]
    },
    {
      "cell_type": "markdown",
      "metadata": {
        "id": "Tzoauwh9Sljt",
        "colab_type": "text"
      },
      "source": [
        "## ライブラリをインポートしよう"
      ]
    },
    {
      "cell_type": "code",
      "metadata": {
        "id": "odPT8tpPRSYb",
        "colab_type": "code",
        "colab": {
          "base_uri": "https://localhost:8080/",
          "height": 194
        },
        "outputId": "fb0e7e0a-50ee-42b2-dba8-c9006f0a9da8"
      },
      "source": [
        "# Numpy, pandasをインポート\n",
        "import numpy as np\n",
        "import pandas as pd\n",
        "\n",
        "# データを開く\n",
        "data_file = pd.read_csv('CreditData.csv', header=0,encoding=\"UTF-8\")\n",
        "\n",
        "data_file.head()"
      ],
      "execution_count": 2,
      "outputs": [
        {
          "output_type": "execute_result",
          "data": {
            "text/html": [
              "<div>\n",
              "<style scoped>\n",
              "    .dataframe tbody tr th:only-of-type {\n",
              "        vertical-align: middle;\n",
              "    }\n",
              "\n",
              "    .dataframe tbody tr th {\n",
              "        vertical-align: top;\n",
              "    }\n",
              "\n",
              "    .dataframe thead th {\n",
              "        text-align: right;\n",
              "    }\n",
              "</style>\n",
              "<table border=\"1\" class=\"dataframe\">\n",
              "  <thead>\n",
              "    <tr style=\"text-align: right;\">\n",
              "      <th></th>\n",
              "      <th>貯金</th>\n",
              "      <th>信用履歴</th>\n",
              "      <th>年齢</th>\n",
              "      <th>家族構成</th>\n",
              "      <th>仕事</th>\n",
              "      <th>審査結果</th>\n",
              "    </tr>\n",
              "  </thead>\n",
              "  <tbody>\n",
              "    <tr>\n",
              "      <th>0</th>\n",
              "      <td>5000000</td>\n",
              "      <td>クレジットローン履歴無し / 全てのクレジットローンは延滞無く完済</td>\n",
              "      <td>22</td>\n",
              "      <td>配偶者あり</td>\n",
              "      <td>パート</td>\n",
              "      <td>発行可</td>\n",
              "    </tr>\n",
              "    <tr>\n",
              "      <th>1</th>\n",
              "      <td>100000</td>\n",
              "      <td>ローンの残があるが現状遅延なく支払われている</td>\n",
              "      <td>22</td>\n",
              "      <td>配偶者あり</td>\n",
              "      <td>社員</td>\n",
              "      <td>発行可</td>\n",
              "    </tr>\n",
              "    <tr>\n",
              "      <th>2</th>\n",
              "      <td>4000000</td>\n",
              "      <td>ローンの残があるが現状遅延なく支払われている</td>\n",
              "      <td>22</td>\n",
              "      <td>配偶者あり</td>\n",
              "      <td>社員</td>\n",
              "      <td>発行不可</td>\n",
              "    </tr>\n",
              "    <tr>\n",
              "      <th>3</th>\n",
              "      <td>4000000</td>\n",
              "      <td>ローンの残があるが現状遅延なく支払われている</td>\n",
              "      <td>22</td>\n",
              "      <td>配偶者あり</td>\n",
              "      <td>管理者/役員</td>\n",
              "      <td>発行不可</td>\n",
              "    </tr>\n",
              "    <tr>\n",
              "      <th>4</th>\n",
              "      <td>500000</td>\n",
              "      <td>ローンの残があるが現状遅延なく支払われている</td>\n",
              "      <td>22</td>\n",
              "      <td>配偶者あり</td>\n",
              "      <td>パート</td>\n",
              "      <td>発行不可</td>\n",
              "    </tr>\n",
              "  </tbody>\n",
              "</table>\n",
              "</div>"
            ],
            "text/plain": [
              "        貯金                               信用履歴  年齢   家族構成      仕事  審査結果\n",
              "0  5000000  クレジットローン履歴無し / 全てのクレジットローンは延滞無く完済  22  配偶者あり     パート   発行可\n",
              "1   100000            ローンの残があるが現状遅延なく支払われている   22  配偶者あり      社員   発行可\n",
              "2  4000000            ローンの残があるが現状遅延なく支払われている   22  配偶者あり      社員  発行不可\n",
              "3  4000000            ローンの残があるが現状遅延なく支払われている   22  配偶者あり  管理者/役員  発行不可\n",
              "4   500000            ローンの残があるが現状遅延なく支払われている   22  配偶者あり     パート  発行不可"
            ]
          },
          "metadata": {
            "tags": []
          },
          "execution_count": 2
        }
      ]
    },
    {
      "cell_type": "code",
      "metadata": {
        "colab_type": "code",
        "id": "1OExdiq81D4m",
        "colab": {
          "base_uri": "https://localhost:8080/",
          "height": 282
        },
        "outputId": "e99b4119-4f5b-4fc1-8ac3-60728e201483"
      },
      "source": [
        "data_file.describe()"
      ],
      "execution_count": 3,
      "outputs": [
        {
          "output_type": "execute_result",
          "data": {
            "text/html": [
              "<div>\n",
              "<style scoped>\n",
              "    .dataframe tbody tr th:only-of-type {\n",
              "        vertical-align: middle;\n",
              "    }\n",
              "\n",
              "    .dataframe tbody tr th {\n",
              "        vertical-align: top;\n",
              "    }\n",
              "\n",
              "    .dataframe thead th {\n",
              "        text-align: right;\n",
              "    }\n",
              "</style>\n",
              "<table border=\"1\" class=\"dataframe\">\n",
              "  <thead>\n",
              "    <tr style=\"text-align: right;\">\n",
              "      <th></th>\n",
              "      <th>貯金</th>\n",
              "      <th>年齢</th>\n",
              "    </tr>\n",
              "  </thead>\n",
              "  <tbody>\n",
              "    <tr>\n",
              "      <th>count</th>\n",
              "      <td>1.448000e+03</td>\n",
              "      <td>1448.000000</td>\n",
              "    </tr>\n",
              "    <tr>\n",
              "      <th>mean</th>\n",
              "      <td>4.843025e+06</td>\n",
              "      <td>48.556630</td>\n",
              "    </tr>\n",
              "    <tr>\n",
              "      <th>std</th>\n",
              "      <td>4.866182e+06</td>\n",
              "      <td>13.493333</td>\n",
              "    </tr>\n",
              "    <tr>\n",
              "      <th>min</th>\n",
              "      <td>0.000000e+00</td>\n",
              "      <td>22.000000</td>\n",
              "    </tr>\n",
              "    <tr>\n",
              "      <th>25%</th>\n",
              "      <td>5.000000e+05</td>\n",
              "      <td>38.000000</td>\n",
              "    </tr>\n",
              "    <tr>\n",
              "      <th>50%</th>\n",
              "      <td>4.000000e+06</td>\n",
              "      <td>50.000000</td>\n",
              "    </tr>\n",
              "    <tr>\n",
              "      <th>75%</th>\n",
              "      <td>8.000000e+06</td>\n",
              "      <td>60.000000</td>\n",
              "    </tr>\n",
              "    <tr>\n",
              "      <th>max</th>\n",
              "      <td>2.000000e+07</td>\n",
              "      <td>70.000000</td>\n",
              "    </tr>\n",
              "  </tbody>\n",
              "</table>\n",
              "</div>"
            ],
            "text/plain": [
              "                 貯金           年齢\n",
              "count  1.448000e+03  1448.000000\n",
              "mean   4.843025e+06    48.556630\n",
              "std    4.866182e+06    13.493333\n",
              "min    0.000000e+00    22.000000\n",
              "25%    5.000000e+05    38.000000\n",
              "50%    4.000000e+06    50.000000\n",
              "75%    8.000000e+06    60.000000\n",
              "max    2.000000e+07    70.000000"
            ]
          },
          "metadata": {
            "tags": []
          },
          "execution_count": 3
        }
      ]
    },
    {
      "cell_type": "markdown",
      "metadata": {
        "id": "qR8jEjMUSq9N",
        "colab_type": "text"
      },
      "source": [
        "## 正規化・標準化しよう"
      ]
    },
    {
      "cell_type": "code",
      "metadata": {
        "id": "Y95lUM1gSp1A",
        "colab_type": "code",
        "colab": {
          "base_uri": "https://localhost:8080/",
          "height": 399
        },
        "outputId": "7123ec4f-be4d-4d84-d159-fcf0aa18cdee"
      },
      "source": [
        "# 正規化\n",
        "data_file[\"貯金\"] = (data_file[\"貯金\"] - data_file[\"貯金\"].mean()) / data_file[\"貯金\"].std()\n",
        "\n",
        "data_file"
      ],
      "execution_count": 4,
      "outputs": [
        {
          "output_type": "execute_result",
          "data": {
            "text/html": [
              "<div>\n",
              "<style scoped>\n",
              "    .dataframe tbody tr th:only-of-type {\n",
              "        vertical-align: middle;\n",
              "    }\n",
              "\n",
              "    .dataframe tbody tr th {\n",
              "        vertical-align: top;\n",
              "    }\n",
              "\n",
              "    .dataframe thead th {\n",
              "        text-align: right;\n",
              "    }\n",
              "</style>\n",
              "<table border=\"1\" class=\"dataframe\">\n",
              "  <thead>\n",
              "    <tr style=\"text-align: right;\">\n",
              "      <th></th>\n",
              "      <th>貯金</th>\n",
              "      <th>信用履歴</th>\n",
              "      <th>年齢</th>\n",
              "      <th>家族構成</th>\n",
              "      <th>仕事</th>\n",
              "      <th>審査結果</th>\n",
              "    </tr>\n",
              "  </thead>\n",
              "  <tbody>\n",
              "    <tr>\n",
              "      <th>0</th>\n",
              "      <td>0.032258</td>\n",
              "      <td>クレジットローン履歴無し / 全てのクレジットローンは延滞無く完済</td>\n",
              "      <td>22</td>\n",
              "      <td>配偶者あり</td>\n",
              "      <td>パート</td>\n",
              "      <td>発行可</td>\n",
              "    </tr>\n",
              "    <tr>\n",
              "      <th>1</th>\n",
              "      <td>-0.974691</td>\n",
              "      <td>ローンの残があるが現状遅延なく支払われている</td>\n",
              "      <td>22</td>\n",
              "      <td>配偶者あり</td>\n",
              "      <td>社員</td>\n",
              "      <td>発行可</td>\n",
              "    </tr>\n",
              "    <tr>\n",
              "      <th>2</th>\n",
              "      <td>-0.173242</td>\n",
              "      <td>ローンの残があるが現状遅延なく支払われている</td>\n",
              "      <td>22</td>\n",
              "      <td>配偶者あり</td>\n",
              "      <td>社員</td>\n",
              "      <td>発行不可</td>\n",
              "    </tr>\n",
              "    <tr>\n",
              "      <th>3</th>\n",
              "      <td>-0.173242</td>\n",
              "      <td>ローンの残があるが現状遅延なく支払われている</td>\n",
              "      <td>22</td>\n",
              "      <td>配偶者あり</td>\n",
              "      <td>管理者/役員</td>\n",
              "      <td>発行不可</td>\n",
              "    </tr>\n",
              "    <tr>\n",
              "      <th>4</th>\n",
              "      <td>-0.892491</td>\n",
              "      <td>ローンの残があるが現状遅延なく支払われている</td>\n",
              "      <td>22</td>\n",
              "      <td>配偶者あり</td>\n",
              "      <td>パート</td>\n",
              "      <td>発行不可</td>\n",
              "    </tr>\n",
              "    <tr>\n",
              "      <th>...</th>\n",
              "      <td>...</td>\n",
              "      <td>...</td>\n",
              "      <td>...</td>\n",
              "      <td>...</td>\n",
              "      <td>...</td>\n",
              "      <td>...</td>\n",
              "    </tr>\n",
              "    <tr>\n",
              "      <th>1443</th>\n",
              "      <td>-0.892491</td>\n",
              "      <td>ローンの残があるが現状遅延なく支払われている</td>\n",
              "      <td>70</td>\n",
              "      <td>配偶者なし</td>\n",
              "      <td>社員</td>\n",
              "      <td>発行不可</td>\n",
              "    </tr>\n",
              "    <tr>\n",
              "      <th>1444</th>\n",
              "      <td>-0.173242</td>\n",
              "      <td>ローンの残があるが現状遅延なく支払われている</td>\n",
              "      <td>70</td>\n",
              "      <td>配偶者なし</td>\n",
              "      <td>社員</td>\n",
              "      <td>発行不可</td>\n",
              "    </tr>\n",
              "    <tr>\n",
              "      <th>1445</th>\n",
              "      <td>-0.173242</td>\n",
              "      <td>ローンの残があるが現状遅延なく支払われている</td>\n",
              "      <td>70</td>\n",
              "      <td>配偶者なし</td>\n",
              "      <td>社員</td>\n",
              "      <td>発行不可</td>\n",
              "    </tr>\n",
              "    <tr>\n",
              "      <th>1446</th>\n",
              "      <td>1.059758</td>\n",
              "      <td>過去に遅延あり</td>\n",
              "      <td>70</td>\n",
              "      <td>配偶者なし</td>\n",
              "      <td>社員</td>\n",
              "      <td>発行可</td>\n",
              "    </tr>\n",
              "    <tr>\n",
              "      <th>1447</th>\n",
              "      <td>0.648758</td>\n",
              "      <td>危険人物 / 他のクレジットローンが存在している (この銀行以外で)</td>\n",
              "      <td>70</td>\n",
              "      <td>配偶者なし</td>\n",
              "      <td>社員</td>\n",
              "      <td>発行不可</td>\n",
              "    </tr>\n",
              "  </tbody>\n",
              "</table>\n",
              "<p>1448 rows × 6 columns</p>\n",
              "</div>"
            ],
            "text/plain": [
              "            貯金                                信用履歴  年齢   家族構成      仕事  審査結果\n",
              "0     0.032258   クレジットローン履歴無し / 全てのクレジットローンは延滞無く完済  22  配偶者あり     パート   発行可\n",
              "1    -0.974691             ローンの残があるが現状遅延なく支払われている   22  配偶者あり      社員   発行可\n",
              "2    -0.173242             ローンの残があるが現状遅延なく支払われている   22  配偶者あり      社員  発行不可\n",
              "3    -0.173242             ローンの残があるが現状遅延なく支払われている   22  配偶者あり  管理者/役員  発行不可\n",
              "4    -0.892491             ローンの残があるが現状遅延なく支払われている   22  配偶者あり     パート  発行不可\n",
              "...        ...                                 ...  ..    ...     ...   ...\n",
              "1443 -0.892491             ローンの残があるが現状遅延なく支払われている   70  配偶者なし      社員  発行不可\n",
              "1444 -0.173242             ローンの残があるが現状遅延なく支払われている   70  配偶者なし      社員  発行不可\n",
              "1445 -0.173242             ローンの残があるが現状遅延なく支払われている   70  配偶者なし      社員  発行不可\n",
              "1446  1.059758                             過去に遅延あり  70  配偶者なし      社員   発行可\n",
              "1447  0.648758  危険人物 / 他のクレジットローンが存在している (この銀行以外で)  70  配偶者なし      社員  発行不可\n",
              "\n",
              "[1448 rows x 6 columns]"
            ]
          },
          "metadata": {
            "tags": []
          },
          "execution_count": 4
        }
      ]
    },
    {
      "cell_type": "markdown",
      "metadata": {
        "id": "zlnIVSrcSw0V",
        "colab_type": "text"
      },
      "source": [
        "## グループ分けしよう"
      ]
    },
    {
      "cell_type": "code",
      "metadata": {
        "id": "yNZKbIQMSwE2",
        "colab_type": "code",
        "colab": {
          "base_uri": "https://localhost:8080/",
          "height": 194
        },
        "outputId": "d452d042-13b7-4b9b-c6a3-de509a913ad2"
      },
      "source": [
        "# グループ分け\n",
        "age_bins =[20,30,40,50,60,100]\n",
        "age_label =['A20','A30','A40','A50','A60']\n",
        "data_file['年齢'] = pd.cut(data_file['年齢'], bins=age_bins, labels=age_label)\n",
        "\n",
        "data_file.head()"
      ],
      "execution_count": 5,
      "outputs": [
        {
          "output_type": "execute_result",
          "data": {
            "text/html": [
              "<div>\n",
              "<style scoped>\n",
              "    .dataframe tbody tr th:only-of-type {\n",
              "        vertical-align: middle;\n",
              "    }\n",
              "\n",
              "    .dataframe tbody tr th {\n",
              "        vertical-align: top;\n",
              "    }\n",
              "\n",
              "    .dataframe thead th {\n",
              "        text-align: right;\n",
              "    }\n",
              "</style>\n",
              "<table border=\"1\" class=\"dataframe\">\n",
              "  <thead>\n",
              "    <tr style=\"text-align: right;\">\n",
              "      <th></th>\n",
              "      <th>貯金</th>\n",
              "      <th>信用履歴</th>\n",
              "      <th>年齢</th>\n",
              "      <th>家族構成</th>\n",
              "      <th>仕事</th>\n",
              "      <th>審査結果</th>\n",
              "    </tr>\n",
              "  </thead>\n",
              "  <tbody>\n",
              "    <tr>\n",
              "      <th>0</th>\n",
              "      <td>0.032258</td>\n",
              "      <td>クレジットローン履歴無し / 全てのクレジットローンは延滞無く完済</td>\n",
              "      <td>A20</td>\n",
              "      <td>配偶者あり</td>\n",
              "      <td>パート</td>\n",
              "      <td>発行可</td>\n",
              "    </tr>\n",
              "    <tr>\n",
              "      <th>1</th>\n",
              "      <td>-0.974691</td>\n",
              "      <td>ローンの残があるが現状遅延なく支払われている</td>\n",
              "      <td>A20</td>\n",
              "      <td>配偶者あり</td>\n",
              "      <td>社員</td>\n",
              "      <td>発行可</td>\n",
              "    </tr>\n",
              "    <tr>\n",
              "      <th>2</th>\n",
              "      <td>-0.173242</td>\n",
              "      <td>ローンの残があるが現状遅延なく支払われている</td>\n",
              "      <td>A20</td>\n",
              "      <td>配偶者あり</td>\n",
              "      <td>社員</td>\n",
              "      <td>発行不可</td>\n",
              "    </tr>\n",
              "    <tr>\n",
              "      <th>3</th>\n",
              "      <td>-0.173242</td>\n",
              "      <td>ローンの残があるが現状遅延なく支払われている</td>\n",
              "      <td>A20</td>\n",
              "      <td>配偶者あり</td>\n",
              "      <td>管理者/役員</td>\n",
              "      <td>発行不可</td>\n",
              "    </tr>\n",
              "    <tr>\n",
              "      <th>4</th>\n",
              "      <td>-0.892491</td>\n",
              "      <td>ローンの残があるが現状遅延なく支払われている</td>\n",
              "      <td>A20</td>\n",
              "      <td>配偶者あり</td>\n",
              "      <td>パート</td>\n",
              "      <td>発行不可</td>\n",
              "    </tr>\n",
              "  </tbody>\n",
              "</table>\n",
              "</div>"
            ],
            "text/plain": [
              "         貯金                               信用履歴   年齢   家族構成      仕事  審査結果\n",
              "0  0.032258  クレジットローン履歴無し / 全てのクレジットローンは延滞無く完済  A20  配偶者あり     パート   発行可\n",
              "1 -0.974691            ローンの残があるが現状遅延なく支払われている   A20  配偶者あり      社員   発行可\n",
              "2 -0.173242            ローンの残があるが現状遅延なく支払われている   A20  配偶者あり      社員  発行不可\n",
              "3 -0.173242            ローンの残があるが現状遅延なく支払われている   A20  配偶者あり  管理者/役員  発行不可\n",
              "4 -0.892491            ローンの残があるが現状遅延なく支払われている   A20  配偶者あり     パート  発行不可"
            ]
          },
          "metadata": {
            "tags": []
          },
          "execution_count": 5
        }
      ]
    },
    {
      "cell_type": "markdown",
      "metadata": {
        "id": "MOFqjDhcS0wW",
        "colab_type": "text"
      },
      "source": [
        "## One-hot-encodingしよう"
      ]
    },
    {
      "cell_type": "code",
      "metadata": {
        "id": "Agf9JGPWS0JP",
        "colab_type": "code",
        "colab": {
          "base_uri": "https://localhost:8080/",
          "height": 346
        },
        "outputId": "c761fde2-e8eb-4733-b345-81ec551ec724"
      },
      "source": [
        "# One hot encoding\n",
        "data_file = pd.get_dummies(data_file)\n",
        "\n",
        "data_file.head()"
      ],
      "execution_count": 6,
      "outputs": [
        {
          "output_type": "execute_result",
          "data": {
            "text/html": [
              "<div>\n",
              "<style scoped>\n",
              "    .dataframe tbody tr th:only-of-type {\n",
              "        vertical-align: middle;\n",
              "    }\n",
              "\n",
              "    .dataframe tbody tr th {\n",
              "        vertical-align: top;\n",
              "    }\n",
              "\n",
              "    .dataframe thead th {\n",
              "        text-align: right;\n",
              "    }\n",
              "</style>\n",
              "<table border=\"1\" class=\"dataframe\">\n",
              "  <thead>\n",
              "    <tr style=\"text-align: right;\">\n",
              "      <th></th>\n",
              "      <th>貯金</th>\n",
              "      <th>信用履歴_この銀行のクレジットローンは全て完済</th>\n",
              "      <th>信用履歴_クレジットローン履歴無し / 全てのクレジットローンは延滞無く完済</th>\n",
              "      <th>信用履歴_ローンの残があるが現状遅延なく支払われている</th>\n",
              "      <th>信用履歴_危険人物 / 他のクレジットローンが存在している (この銀行以外で)</th>\n",
              "      <th>信用履歴_過去に遅延あり</th>\n",
              "      <th>年齢_A20</th>\n",
              "      <th>年齢_A30</th>\n",
              "      <th>年齢_A40</th>\n",
              "      <th>年齢_A50</th>\n",
              "      <th>年齢_A60</th>\n",
              "      <th>家族構成_配偶者あり</th>\n",
              "      <th>家族構成_配偶者なし</th>\n",
              "      <th>仕事_パート</th>\n",
              "      <th>仕事_無職</th>\n",
              "      <th>仕事_社員</th>\n",
              "      <th>仕事_管理者/役員</th>\n",
              "      <th>審査結果_発行不可</th>\n",
              "      <th>審査結果_発行可</th>\n",
              "    </tr>\n",
              "  </thead>\n",
              "  <tbody>\n",
              "    <tr>\n",
              "      <th>0</th>\n",
              "      <td>0.032258</td>\n",
              "      <td>0</td>\n",
              "      <td>1</td>\n",
              "      <td>0</td>\n",
              "      <td>0</td>\n",
              "      <td>0</td>\n",
              "      <td>1</td>\n",
              "      <td>0</td>\n",
              "      <td>0</td>\n",
              "      <td>0</td>\n",
              "      <td>0</td>\n",
              "      <td>1</td>\n",
              "      <td>0</td>\n",
              "      <td>1</td>\n",
              "      <td>0</td>\n",
              "      <td>0</td>\n",
              "      <td>0</td>\n",
              "      <td>0</td>\n",
              "      <td>1</td>\n",
              "    </tr>\n",
              "    <tr>\n",
              "      <th>1</th>\n",
              "      <td>-0.974691</td>\n",
              "      <td>0</td>\n",
              "      <td>0</td>\n",
              "      <td>1</td>\n",
              "      <td>0</td>\n",
              "      <td>0</td>\n",
              "      <td>1</td>\n",
              "      <td>0</td>\n",
              "      <td>0</td>\n",
              "      <td>0</td>\n",
              "      <td>0</td>\n",
              "      <td>1</td>\n",
              "      <td>0</td>\n",
              "      <td>0</td>\n",
              "      <td>0</td>\n",
              "      <td>1</td>\n",
              "      <td>0</td>\n",
              "      <td>0</td>\n",
              "      <td>1</td>\n",
              "    </tr>\n",
              "    <tr>\n",
              "      <th>2</th>\n",
              "      <td>-0.173242</td>\n",
              "      <td>0</td>\n",
              "      <td>0</td>\n",
              "      <td>1</td>\n",
              "      <td>0</td>\n",
              "      <td>0</td>\n",
              "      <td>1</td>\n",
              "      <td>0</td>\n",
              "      <td>0</td>\n",
              "      <td>0</td>\n",
              "      <td>0</td>\n",
              "      <td>1</td>\n",
              "      <td>0</td>\n",
              "      <td>0</td>\n",
              "      <td>0</td>\n",
              "      <td>1</td>\n",
              "      <td>0</td>\n",
              "      <td>1</td>\n",
              "      <td>0</td>\n",
              "    </tr>\n",
              "    <tr>\n",
              "      <th>3</th>\n",
              "      <td>-0.173242</td>\n",
              "      <td>0</td>\n",
              "      <td>0</td>\n",
              "      <td>1</td>\n",
              "      <td>0</td>\n",
              "      <td>0</td>\n",
              "      <td>1</td>\n",
              "      <td>0</td>\n",
              "      <td>0</td>\n",
              "      <td>0</td>\n",
              "      <td>0</td>\n",
              "      <td>1</td>\n",
              "      <td>0</td>\n",
              "      <td>0</td>\n",
              "      <td>0</td>\n",
              "      <td>0</td>\n",
              "      <td>1</td>\n",
              "      <td>1</td>\n",
              "      <td>0</td>\n",
              "    </tr>\n",
              "    <tr>\n",
              "      <th>4</th>\n",
              "      <td>-0.892491</td>\n",
              "      <td>0</td>\n",
              "      <td>0</td>\n",
              "      <td>1</td>\n",
              "      <td>0</td>\n",
              "      <td>0</td>\n",
              "      <td>1</td>\n",
              "      <td>0</td>\n",
              "      <td>0</td>\n",
              "      <td>0</td>\n",
              "      <td>0</td>\n",
              "      <td>1</td>\n",
              "      <td>0</td>\n",
              "      <td>1</td>\n",
              "      <td>0</td>\n",
              "      <td>0</td>\n",
              "      <td>0</td>\n",
              "      <td>1</td>\n",
              "      <td>0</td>\n",
              "    </tr>\n",
              "  </tbody>\n",
              "</table>\n",
              "</div>"
            ],
            "text/plain": [
              "         貯金  信用履歴_この銀行のクレジットローンは全て完済  ...  審査結果_発行不可  審査結果_発行可\n",
              "0  0.032258                        0  ...          0         1\n",
              "1 -0.974691                        0  ...          0         1\n",
              "2 -0.173242                        0  ...          1         0\n",
              "3 -0.173242                        0  ...          1         0\n",
              "4 -0.892491                        0  ...          1         0\n",
              "\n",
              "[5 rows x 19 columns]"
            ]
          },
          "metadata": {
            "tags": []
          },
          "execution_count": 6
        }
      ]
    },
    {
      "cell_type": "markdown",
      "metadata": {
        "id": "ywupyVUUS5kA",
        "colab_type": "text"
      },
      "source": [
        "## Numpyでデータを分けよう"
      ]
    },
    {
      "cell_type": "code",
      "metadata": {
        "id": "Y2gySX-jS27o",
        "colab_type": "code",
        "colab": {
          "base_uri": "https://localhost:8080/",
          "height": 88
        },
        "outputId": "b88f472a-4182-411e-8393-fc22d8adce52"
      },
      "source": [
        "# Numpy配列に変更\n",
        "data_file = np.array(data_file)\n",
        "\n",
        "# 入力データと正解ラベルに分割\n",
        "data = data_file[:,:17]\n",
        "label = data_file[:,17]\n",
        "\n",
        "# サンプル数を計測\n",
        "len(data)\n",
        "\n",
        "data[2]"
      ],
      "execution_count": 7,
      "outputs": [
        {
          "output_type": "execute_result",
          "data": {
            "text/plain": [
              "array([-0.17324153,  0.        ,  0.        ,  1.        ,  0.        ,\n",
              "        0.        ,  1.        ,  0.        ,  0.        ,  0.        ,\n",
              "        0.        ,  1.        ,  0.        ,  0.        ,  0.        ,\n",
              "        1.        ,  0.        ])"
            ]
          },
          "metadata": {
            "tags": []
          },
          "execution_count": 7
        }
      ]
    },
    {
      "cell_type": "markdown",
      "metadata": {
        "id": "nfdnzvOvS_x0",
        "colab_type": "text"
      },
      "source": [
        "## Scikit-learnで学習データとテストデータに分けよう\n"
      ]
    },
    {
      "cell_type": "code",
      "metadata": {
        "id": "0QOR5F-jS9cF",
        "colab_type": "code",
        "colab": {}
      },
      "source": [
        "# 学習データとテストデータに分割\n",
        "from sklearn.model_selection import train_test_split\n",
        "train_data, test_data, train_label, test_label = train_test_split(data,label, \n",
        "                                                                  random_state = 0, \n",
        "                                                                  stratify = label, \n",
        "                                                                  test_size = 0.3)\n"
      ],
      "execution_count": 8,
      "outputs": []
    },
    {
      "cell_type": "markdown",
      "metadata": {
        "id": "YEjHaooyTC0W",
        "colab_type": "text"
      },
      "source": [
        "## Scikit-learnでSVMをインポートしよう"
      ]
    },
    {
      "cell_type": "code",
      "metadata": {
        "id": "lFYQS9zNTB8b",
        "colab_type": "code",
        "colab": {}
      },
      "source": [
        "# Scikit-learnのSVMをインポート\n",
        "from sklearn import svm\n",
        "\n",
        "# SVMの読み込み\n",
        "clf = svm.SVC(gamma='scale', C=30.,probability=True)\n",
        "        # gammma:カーネル係数\n",
        "        # C:正則化パラメータ\n"
      ],
      "execution_count": 9,
      "outputs": []
    },
    {
      "cell_type": "markdown",
      "metadata": {
        "id": "Lwhx74nsTIYU",
        "colab_type": "text"
      },
      "source": [
        "## 学習を実行しよう"
      ]
    },
    {
      "cell_type": "code",
      "metadata": {
        "id": "i7vb9kdlTFun",
        "colab_type": "code",
        "colab": {
          "base_uri": "https://localhost:8080/",
          "height": 88
        },
        "outputId": "31a7cfef-d8d5-4510-9c7e-6daaf342a15a"
      },
      "source": [
        "# 70%のデータで学習実行\n",
        "clf.fit(train_data, train_label)"
      ],
      "execution_count": 10,
      "outputs": [
        {
          "output_type": "execute_result",
          "data": {
            "text/plain": [
              "SVC(C=30.0, break_ties=False, cache_size=200, class_weight=None, coef0=0.0,\n",
              "    decision_function_shape='ovr', degree=3, gamma='scale', kernel='rbf',\n",
              "    max_iter=-1, probability=True, random_state=None, shrinking=True, tol=0.001,\n",
              "    verbose=False)"
            ]
          },
          "metadata": {
            "tags": []
          },
          "execution_count": 10
        }
      ]
    },
    {
      "cell_type": "markdown",
      "metadata": {
        "id": "3iLvrgPHxyQB",
        "colab_type": "text"
      },
      "source": [
        "## クロスバリデーション"
      ]
    },
    {
      "cell_type": "code",
      "metadata": {
        "id": "fnN68Ae7xxdZ",
        "colab_type": "code",
        "colab": {
          "base_uri": "https://localhost:8080/",
          "height": 70
        },
        "outputId": "6d0d272e-238d-4265-c277-d9da585152a0"
      },
      "source": [
        "from sklearn.model_selection import cross_val_score\n",
        "\n",
        "# training set を用いて学習\n",
        "clf = clf.fit(train_data, train_label)\n",
        "\n",
        "# test set を用いて評価\n",
        "score = clf.score(test_data, test_label)\n",
        "print('Test set score: {}'.format(score))\n",
        "\n",
        "# 交差検証\n",
        "scores = cross_val_score(clf, train_data, train_label,cv=5)\n",
        "\n",
        "# 各分割におけるスコア\n",
        "print('Cross-Validation scores: {}'.format(scores))\n",
        "\n",
        "# スコアの平均値\n",
        "print('Average score: {}'.format(np.mean(scores)))"
      ],
      "execution_count": 11,
      "outputs": [
        {
          "output_type": "stream",
          "text": [
            "Test set score: 0.8781609195402299\n",
            "Cross-Validation scores: [0.87684729 0.87684729 0.87192118 0.86633663 0.83168317]\n",
            "Average score: 0.8647271131053993\n"
          ],
          "name": "stdout"
        }
      ]
    },
    {
      "cell_type": "markdown",
      "metadata": {
        "id": "u0FmjqFeTN0F",
        "colab_type": "text"
      },
      "source": [
        "## テストデータで検証しよう"
      ]
    },
    {
      "cell_type": "code",
      "metadata": {
        "id": "Z2QNHvdVTXFh",
        "colab_type": "code",
        "colab": {
          "base_uri": "https://localhost:8080/",
          "height": 35
        },
        "outputId": "ca4c3abb-2461-4c71-d1c0-e637008bd7d9"
      },
      "source": [
        "from sklearn import metrics\n",
        "\n",
        "y_pre = clf.predict(test_data)\n",
        "ac_score = metrics.accuracy_score(test_label, y_pre)\n",
        "print('正解率{0:.1f}%'.format(ac_score * 100)) # :.1f 小数点桁数1桁"
      ],
      "execution_count": 12,
      "outputs": [
        {
          "output_type": "stream",
          "text": [
            "正解率87.8%\n"
          ],
          "name": "stdout"
        }
      ]
    },
    {
      "cell_type": "markdown",
      "metadata": {
        "id": "5fgE8_z0TYm5",
        "colab_type": "text"
      },
      "source": [
        "## 混同行列を確認しよう"
      ]
    },
    {
      "cell_type": "code",
      "metadata": {
        "id": "61Y3CnFuTHhS",
        "colab_type": "code",
        "colab": {
          "base_uri": "https://localhost:8080/",
          "height": 212
        },
        "outputId": "6427c2b6-8f6b-45b2-e89a-215fbc934f1f"
      },
      "source": [
        "from sklearn.metrics import confusion_matrix\n",
        "from sklearn.metrics import classification_report\n",
        "\n",
        "print(classification_report(test_label, y_pre))\n",
        "print(confusion_matrix(test_label, y_pre))"
      ],
      "execution_count": 13,
      "outputs": [
        {
          "output_type": "stream",
          "text": [
            "              precision    recall  f1-score   support\n",
            "\n",
            "         0.0       0.89      0.86      0.87       210\n",
            "         1.0       0.87      0.90      0.88       225\n",
            "\n",
            "    accuracy                           0.88       435\n",
            "   macro avg       0.88      0.88      0.88       435\n",
            "weighted avg       0.88      0.88      0.88       435\n",
            "\n",
            "[[180  30]\n",
            " [ 23 202]]\n"
          ],
          "name": "stdout"
        }
      ]
    },
    {
      "cell_type": "markdown",
      "metadata": {
        "id": "qV-BBzt8Te8B",
        "colab_type": "text"
      },
      "source": [
        "## ROCカーブとAUCスコアを確認しよう\n"
      ]
    },
    {
      "cell_type": "code",
      "metadata": {
        "id": "d2bj9_YJTerd",
        "colab_type": "code",
        "colab": {
          "base_uri": "https://localhost:8080/",
          "height": 295
        },
        "outputId": "13bdc67b-96d1-49cb-be6c-595dbab3ff2d"
      },
      "source": [
        "import matplotlib.pyplot as plt\n",
        "\n",
        "# 各入力にスコアを算出\n",
        "y_score = clf.predict_proba(test_data)[: , 1]\n",
        "\n",
        "# FPR, TPR, 閾値 を算出\n",
        "fpr, tpr, thresholds = metrics.roc_curve(test_label, y_score)\n",
        "\n",
        "# AUCスコア\n",
        "auc = metrics.auc(fpr, tpr)\n",
        "\n",
        "# ROC曲線をプロット\n",
        "plt.plot(fpr, tpr,label='ROC curve (area = %.2f)'%auc)\n",
        "plt.legend()\n",
        "plt.title('ROC curve')\n",
        "plt.xlabel('False Positive Rate')\n",
        "plt.ylabel('True Positive Rate')\n",
        "plt.grid(True)\n",
        "plt.show()"
      ],
      "execution_count": 14,
      "outputs": [
        {
          "output_type": "display_data",
          "data": {
            "image/png": "[encoded data removed]",
            "text/plain": [
              "<Figure size 432x288 with 1 Axes>"
            ]
          },
          "metadata": {
            "tags": [],
            "needs_background": "light"
          }
        }
      ]
    },
    {
      "cell_type": "markdown",
      "metadata": {
        "id": "ql7Shl71H4F7",
        "colab_type": "text"
      },
      "source": [
        "## モデルを保存しよう"
      ]
    },
    {
      "cell_type": "code",
      "metadata": {
        "id": "QZoTaybDTkaM",
        "colab_type": "code",
        "colab": {}
      },
      "source": [
        "import pickle\n",
        "\n",
        "# モデルを保存する\n",
        "filename = \"/content/drive/My Drive/Colab Notebooks/final_model.pkl\"\n",
        "pickle.dump(clf, open(filename, 'wb'))"
      ],
      "execution_count": 15,
      "outputs": []
    }
  ]
}