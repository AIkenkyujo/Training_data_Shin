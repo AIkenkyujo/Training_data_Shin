{
  "nbformat": 4,
  "nbformat_minor": 0,
  "metadata": {
    "colab": {
      "name": "601_【完成版】_RNNで時系列データを予測するモデルを作ろう.ipynb",
      "provenance": []
    },
    "kernelspec": {
      "name": "python3",
      "display_name": "Python 3"
    }
  },
  "cells": [
    {
      "cell_type": "markdown",
      "metadata": {
        "id": "59m1_ZUvT8FF",
        "colab_type": "text"
      },
      "source": [
        "# RNNで時系列データを予測するモデルを作ろう"
      ]
    },
    {
      "cell_type": "markdown",
      "metadata": {
        "id": "S677vdlOT0ob",
        "colab_type": "text"
      },
      "source": [
        "## データの読み込み"
      ]
    },
    {
      "cell_type": "code",
      "metadata": {
        "id": "VdTDYnLCdFMj",
        "colab_type": "code",
        "colab": {}
      },
      "source": [
        "import numpy as np\n",
        "import pandas as pd\n",
        "\n",
        "df = pd.read_csv('LSTM_data.csv', header=None,encoding=\"UTF-8\")\n",
        "df = np.array(df)"
      ],
      "execution_count": 0,
      "outputs": []
    },
    {
      "cell_type": "markdown",
      "metadata": {
        "id": "fbm59kiETs9Y",
        "colab_type": "text"
      },
      "source": [
        "## 空のリストを用意しデータを格納"
      ]
    },
    {
      "cell_type": "code",
      "metadata": {
        "id": "6MP6RiQkTr0i",
        "colab_type": "code",
        "colab": {}
      },
      "source": [
        "data = []\n",
        "target = []\n",
        "num = 25\n",
        "\n",
        "for i in range(0, len(df) - num):\n",
        "    data.append(df[i: i + num])\n",
        "    target.append(df[i + num])\n",
        "\n",
        "data[0]"
      ],
      "execution_count": 0,
      "outputs": []
    },
    {
      "cell_type": "markdown",
      "metadata": {
        "id": "Ln44sYRhMcGC",
        "colab_type": "text"
      },
      "source": [
        "## RNNの入力形式に変更"
      ]
    },
    {
      "cell_type": "code",
      "metadata": {
        "id": "xr2SY1ZfeUXJ",
        "colab_type": "code",
        "outputId": "8bc09371-8fa7-4976-d0b8-f8cc19c2d98f",
        "colab": {
          "base_uri": "https://localhost:8080/",
          "height": 34
        }
      },
      "source": [
        "X = np.array(data).reshape(len(data), num, 1)\n",
        "Y = np.array(target).reshape(len(data), 1)\n",
        "\n",
        "len(X[0][0])"
      ],
      "execution_count": 0,
      "outputs": [
        {
          "output_type": "execute_result",
          "data": {
            "text/plain": [
              "1"
            ]
          },
          "metadata": {
            "tags": []
          },
          "execution_count": 74
        }
      ]
    },
    {
      "cell_type": "markdown",
      "metadata": {
        "id": "IHJ75kMSc4re",
        "colab_type": "text"
      },
      "source": [
        "## 学習用データとテストデータに分割"
      ]
    },
    {
      "cell_type": "code",
      "metadata": {
        "id": "pxS0rGdmQZAa",
        "colab_type": "code",
        "colab": {}
      },
      "source": [
        "from sklearn.model_selection import train_test_split\n",
        "\n",
        "# データ設定\n",
        "N_train = int(len(data) * 0.9)\n",
        "N_validation = len(data) - N_train\n",
        "\n",
        "X_train, X_validation, Y_train, Y_validation = \\\n",
        "    train_test_split(X, Y, test_size=N_validation)\n",
        "\n"
      ],
      "execution_count": 0,
      "outputs": []
    },
    {
      "cell_type": "markdown",
      "metadata": {
        "id": "wodLD9y_MzbR",
        "colab_type": "text"
      },
      "source": [
        "## LSTMのモデルを作成しよう\n",
        "\n"
      ]
    },
    {
      "cell_type": "code",
      "metadata": {
        "id": "GgJ_ZR8Cf6r_",
        "colab_type": "code",
        "colab": {}
      },
      "source": [
        "from keras.models import Sequential\n",
        "from keras.layers.core import Dense, Activation\n",
        "from keras.layers.recurrent import LSTM\n",
        "from keras.optimizers import Adam\n",
        "\n",
        "# LSTMモデルを定義\n",
        "def lstm(data, n_in, n_hidden, n_out):\n",
        "    model = Sequential()\n",
        "    \n",
        "    # LSTM\n",
        "    model.add(LSTM(n_hidden, kernel_initializer='random_uniform', input_shape=(data, n_in)))\n",
        "    model.add(Dense(n_out, kernel_initializer='random_uniform'))\n",
        "    model.add(Activation('linear'))\n",
        "    optimizer = Adam(lr=0.001, beta_1=0.9, beta_2=0.999)\n",
        " \n",
        "    model.compile(loss='mean_squared_error', optimizer=optimizer)\n",
        "    return model"
      ],
      "execution_count": 0,
      "outputs": []
    },
    {
      "cell_type": "markdown",
      "metadata": {
        "id": "MZlpvC3MTsMG",
        "colab_type": "text"
      },
      "source": [
        "## 学習を実行しよう"
      ]
    },
    {
      "cell_type": "code",
      "metadata": {
        "id": "3itNfs60f-He",
        "colab_type": "code",
        "outputId": "5c323d24-bd87-4a71-8fc3-12f7c33a1953",
        "colab": {
          "base_uri": "https://localhost:8080/",
          "height": 1000
        }
      },
      "source": [
        "from keras.callbacks import EarlyStopping\n",
        "from sklearn.utils import shuffle\n",
        "\n",
        "n_in = len(X[0][0])     # 1\n",
        "n_hidden = 30           # 隠れ層の数 \n",
        "n_out = len(Y[0])       # 1\n",
        "\n",
        "model = lstm(num, n_in, n_hidden, n_out)\n",
        "\n",
        "epochs = 500\n",
        "batch_size = 10\n",
        "early_stopping = EarlyStopping(monitor='val_loss', patience=10, verbose=1)\n",
        "\n",
        "\n",
        "model.fit(X_train, Y_train,\n",
        "          batch_size=batch_size,\n",
        "          epochs=epochs,\n",
        "          validation_data=(X_validation, Y_validation),\n",
        "          callbacks=[early_stopping])\n"
      ],
      "execution_count": 0,
      "outputs": [
        {
          "output_type": "stream",
          "text": [
            "Train on 158 samples, validate on 18 samples\n",
            "Epoch 1/500\n",
            "158/158 [==============================] - 1s 4ms/step - loss: 0.4922 - val_loss: 0.4818\n",
            "Epoch 2/500\n",
            "158/158 [==============================] - 0s 1ms/step - loss: 0.4210 - val_loss: 0.4078\n",
            "Epoch 3/500\n",
            "158/158 [==============================] - 0s 1ms/step - loss: 0.2849 - val_loss: 0.3816\n",
            "Epoch 4/500\n",
            "158/158 [==============================] - 0s 1ms/step - loss: 0.2078 - val_loss: 0.2273\n",
            "Epoch 5/500\n",
            "158/158 [==============================] - 0s 1ms/step - loss: 0.1140 - val_loss: 0.1013\n",
            "Epoch 6/500\n",
            "158/158 [==============================] - 0s 1ms/step - loss: 0.0479 - val_loss: 0.0404\n",
            "Epoch 7/500\n",
            "158/158 [==============================] - 0s 1ms/step - loss: 0.0277 - val_loss: 0.0169\n",
            "Epoch 8/500\n",
            "158/158 [==============================] - 0s 1ms/step - loss: 0.0181 - val_loss: 0.0162\n",
            "Epoch 9/500\n",
            "158/158 [==============================] - 0s 1ms/step - loss: 0.0134 - val_loss: 0.0101\n",
            "Epoch 10/500\n",
            "158/158 [==============================] - 0s 1ms/step - loss: 0.0086 - val_loss: 0.0077\n",
            "Epoch 11/500\n",
            "158/158 [==============================] - 0s 1ms/step - loss: 0.0065 - val_loss: 0.0069\n",
            "Epoch 12/500\n",
            "158/158 [==============================] - 0s 985us/step - loss: 0.0048 - val_loss: 0.0044\n",
            "Epoch 13/500\n",
            "158/158 [==============================] - 0s 1ms/step - loss: 0.0035 - val_loss: 0.0033\n",
            "Epoch 14/500\n",
            "158/158 [==============================] - 0s 1ms/step - loss: 0.0027 - val_loss: 0.0028\n",
            "Epoch 15/500\n",
            "158/158 [==============================] - 0s 1000us/step - loss: 0.0022 - val_loss: 0.0031\n",
            "Epoch 16/500\n",
            "158/158 [==============================] - 0s 1ms/step - loss: 0.0020 - val_loss: 0.0019\n",
            "Epoch 17/500\n",
            "158/158 [==============================] - 0s 978us/step - loss: 0.0016 - val_loss: 0.0017\n",
            "Epoch 18/500\n",
            "158/158 [==============================] - 0s 1ms/step - loss: 0.0014 - val_loss: 0.0013\n",
            "Epoch 19/500\n",
            "158/158 [==============================] - 0s 1ms/step - loss: 0.0012 - val_loss: 0.0013\n",
            "Epoch 20/500\n",
            "158/158 [==============================] - 0s 993us/step - loss: 0.0012 - val_loss: 0.0014\n",
            "Epoch 21/500\n",
            "158/158 [==============================] - 0s 980us/step - loss: 0.0012 - val_loss: 0.0012\n",
            "Epoch 22/500\n",
            "158/158 [==============================] - 0s 986us/step - loss: 0.0011 - val_loss: 0.0014\n",
            "Epoch 23/500\n",
            "158/158 [==============================] - 0s 1ms/step - loss: 0.0012 - val_loss: 0.0013\n",
            "Epoch 24/500\n",
            "158/158 [==============================] - 0s 1ms/step - loss: 0.0011 - val_loss: 0.0012\n",
            "Epoch 25/500\n",
            "158/158 [==============================] - 0s 1ms/step - loss: 0.0011 - val_loss: 0.0012\n",
            "Epoch 26/500\n",
            "158/158 [==============================] - 0s 1ms/step - loss: 0.0011 - val_loss: 0.0011\n",
            "Epoch 27/500\n",
            "158/158 [==============================] - 0s 980us/step - loss: 0.0011 - val_loss: 0.0012\n",
            "Epoch 28/500\n",
            "158/158 [==============================] - 0s 1ms/step - loss: 0.0011 - val_loss: 0.0013\n",
            "Epoch 29/500\n",
            "158/158 [==============================] - 0s 992us/step - loss: 0.0012 - val_loss: 0.0018\n",
            "Epoch 30/500\n",
            "158/158 [==============================] - 0s 988us/step - loss: 0.0014 - val_loss: 0.0011\n",
            "Epoch 31/500\n",
            "158/158 [==============================] - 0s 988us/step - loss: 0.0011 - val_loss: 0.0013\n",
            "Epoch 32/500\n",
            "158/158 [==============================] - 0s 1ms/step - loss: 0.0011 - val_loss: 0.0014\n",
            "Epoch 33/500\n",
            "158/158 [==============================] - 0s 999us/step - loss: 0.0011 - val_loss: 0.0012\n",
            "Epoch 34/500\n",
            "158/158 [==============================] - 0s 1ms/step - loss: 0.0012 - val_loss: 0.0012\n",
            "Epoch 35/500\n",
            "158/158 [==============================] - 0s 963us/step - loss: 0.0013 - val_loss: 0.0013\n",
            "Epoch 36/500\n",
            "158/158 [==============================] - 0s 994us/step - loss: 0.0012 - val_loss: 0.0011\n",
            "Epoch 00036: early stopping\n"
          ],
          "name": "stdout"
        },
        {
          "output_type": "execute_result",
          "data": {
            "text/plain": [
              "<keras.callbacks.callbacks.History at 0x7f44ee6baf98>"
            ]
          },
          "metadata": {
            "tags": []
          },
          "execution_count": 56
        }
      ]
    },
    {
      "cell_type": "markdown",
      "metadata": {
        "id": "beQy5PriTqwi",
        "colab_type": "text"
      },
      "source": [
        "## 予測値を計算しグラフ描画で可視化しよう"
      ]
    },
    {
      "cell_type": "code",
      "metadata": {
        "id": "fUr8Au8_gAIZ",
        "colab_type": "code",
        "outputId": "9367e2a9-ad72-4bce-d454-87957e735eda",
        "colab": {
          "base_uri": "https://localhost:8080/",
          "height": 285
        }
      },
      "source": [
        "import matplotlib.pyplot as plt\n",
        "\n",
        "# 最初に予測用の最初のデータを準備\n",
        "Z = X[:1] \n",
        "\n",
        "original = [df[i] for i in range(num)] # グラフ描画用。ここまでのデータを使って予測している。\n",
        "predicted = [None for i in range(num)] # 内包表記　25個目まで何も入ってない空のリストを用意する\n",
        "\n",
        "# 26番目以降の予測データ\n",
        "for i in range(len(df) - num):\n",
        "    z_ = Z[-1:]\n",
        "    y_ = model.predict(z_)\n",
        "    sequence_ = np.concatenate(\n",
        "        (z_.reshape(num, n_in)[1:], y_),\n",
        "        axis=0).reshape(1, num, n_in)\n",
        "    # print(Z.shape)\n",
        "    Z = np.append(Z, sequence_, axis=0)\n",
        "    predicted.append(y_.reshape(-1))\n",
        "\n",
        "fig = plt.figure(figsize=(30,30), dpi=200)\n",
        "plt.rc('font', family='serif')\n",
        "plt.figure()\n",
        "plt.ylim([-1.5, 1.5])\n",
        "plt.plot(df, linestyle='dotted', color='red', label='Correct')\n",
        "plt.plot(original, linestyle='dashed', color='black', label='Original')\n",
        "plt.plot(predicted, color='blue', label='LSTM Predict')\n",
        "plt.legend()\n",
        "plt.show()"
      ],
      "execution_count": 0,
      "outputs": [
        {
          "output_type": "display_data",
          "data": {
            "text/plain": [
              "<Figure size 6000x6000 with 0 Axes>"
            ]
          },
          "metadata": {
            "tags": []
          }
        },
        {
          "output_type": "display_data",
          "data": {
            "image/png": "[encoded data removed]",
            "text/plain": [
              "<Figure size 432x288 with 1 Axes>"
            ]
          },
          "metadata": {
            "tags": [],
            "needs_background": "light"
          }
        }
      ]
    },
    {
      "cell_type": "code",
      "metadata": {
        "id": "lNVfuQCBgIqI",
        "colab_type": "code",
        "colab": {}
      },
      "source": [
        ""
      ],
      "execution_count": 0,
      "outputs": []
    }
  ]
}