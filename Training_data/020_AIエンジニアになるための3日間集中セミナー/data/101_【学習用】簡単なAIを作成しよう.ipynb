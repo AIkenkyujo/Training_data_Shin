{
  "nbformat": 4,
  "nbformat_minor": 0,
  "metadata": {
    "colab": {
      "name": "101_【学習用】簡単なAIを作成しよう.ipynb",
      "provenance": [],
      "collapsed_sections": []
    },
    "kernelspec": {
      "name": "python3",
      "display_name": "Python 3"
    }
  },
  "cells": [
    {
      "cell_type": "markdown",
      "metadata": {
        "id": "glPUULCOyVf2",
        "colab_type": "text"
      },
      "source": [
        "# 簡単なAIを作成しよう"
      ]
    },
    {
      "cell_type": "markdown",
      "metadata": {
        "id": "BcyvSadkAb-Z",
        "colab_type": "text"
      },
      "source": [
        "## ライブラリをインポートしよう"
      ]
    },
    {
      "cell_type": "code",
      "metadata": {
        "id": "7Ua4gl2yJvLx",
        "colab_type": "code",
        "colab": {}
      },
      "source": [
        "# Numpyをインポートしよう\n"
      ],
      "execution_count": 0,
      "outputs": []
    },
    {
      "cell_type": "markdown",
      "metadata": {
        "id": "cpAnaEn5J9UA",
        "colab_type": "text"
      },
      "source": [
        "## 空のリストと変数を用意しよう"
      ]
    },
    {
      "cell_type": "code",
      "metadata": {
        "id": "XT-4uaO-J8DU",
        "colab_type": "code",
        "colab": {}
      },
      "source": [
        "# 空のリストを用意\n",
        "\n",
        "# 変数を定義\n"
      ],
      "execution_count": 0,
      "outputs": []
    },
    {
      "cell_type": "markdown",
      "metadata": {
        "id": "oIgrfTqDKihX",
        "colab_type": "text"
      },
      "source": [
        "## 使用するデータを開こう"
      ]
    },
    {
      "cell_type": "code",
      "metadata": {
        "id": "mhqhVZSTKj9z",
        "colab_type": "code",
        "colab": {}
      },
      "source": [
        "# データを準備\n",
        "\n",
        "# forメソッドを使ってリスト化\n",
        "\n",
        "# データを閉じる\n"
      ],
      "execution_count": 0,
      "outputs": []
    },
    {
      "cell_type": "markdown",
      "metadata": {
        "id": "TZCBSPUXNlKt",
        "colab_type": "text"
      },
      "source": [
        "## ステップ関数を定義しよう\n"
      ]
    },
    {
      "cell_type": "code",
      "metadata": {
        "id": "-wrohalNLdDx",
        "colab_type": "code",
        "colab": {}
      },
      "source": [
        "# 関数を定義しよう\n",
        "\n"
      ],
      "execution_count": 0,
      "outputs": []
    },
    {
      "cell_type": "markdown",
      "metadata": {
        "id": "6cdP5DmDztZs",
        "colab_type": "text"
      },
      "source": [
        "##ニューラルネットワークを構築しよう"
      ]
    },
    {
      "cell_type": "code",
      "metadata": {
        "id": "dU5biomKzyUC",
        "colab_type": "code",
        "colab": {}
      },
      "source": [
        "# numpyを使って計算\n",
        "\n",
        "# 条件分岐してprint"
      ],
      "execution_count": 0,
      "outputs": []
    }
  ]
}