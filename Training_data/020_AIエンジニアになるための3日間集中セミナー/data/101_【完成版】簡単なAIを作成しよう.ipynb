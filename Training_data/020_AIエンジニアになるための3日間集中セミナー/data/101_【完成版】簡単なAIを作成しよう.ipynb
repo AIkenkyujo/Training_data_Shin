{
  "nbformat": 4,
  "nbformat_minor": 0,
  "metadata": {
    "colab": {
      "name": "101_【完成版】簡単なAIを作成しよう.ipynb",
      "provenance": [],
      "collapsed_sections": []
    },
    "kernelspec": {
      "name": "python3",
      "display_name": "Python 3"
    }
  },
  "cells": [
    {
      "cell_type": "markdown",
      "metadata": {
        "id": "glPUULCOyVf2",
        "colab_type": "text"
      },
      "source": [
        "# 簡単なAIを作成しよう"
      ]
    },
    {
      "cell_type": "markdown",
      "metadata": {
        "id": "xKL0T8IBH_xI",
        "colab_type": "text"
      },
      "source": [
        "##ライブラリをインポートしよう"
      ]
    },
    {
      "cell_type": "code",
      "metadata": {
        "id": "7HiZBo_oH9Lb",
        "colab_type": "code",
        "colab": {}
      },
      "source": [
        "# Numpyをインポートしよう\n",
        "import numpy as np"
      ],
      "execution_count": 0,
      "outputs": []
    },
    {
      "cell_type": "code",
      "metadata": {
        "id": "XT-4uaO-J8DU",
        "colab_type": "code",
        "colab": {}
      },
      "source": [
        "# 空のリストを用意\n",
        "data = []\n",
        "\n",
        "\n",
        "# 変数を定義\n",
        "w_x = np.array([[0.46, 0.43, -0.31, 0.16],\n",
        "               [-0.31, 0.08, 0.18, -0.52],\n",
        "               [-0.67, 0.27, -0.19, -0.05],\n",
        "               [0.02, 0.04, 0.10, -0.35],\n",
        "               [-0.87, 0.65, 0.15, -0.12]])\n",
        "w_u1 = np.array([[-0.68,0.01],\n",
        "                [0.10, 0.50],\n",
        "                [-0.10,-0.21],\n",
        "                [-1.25,0.50]])\n",
        "\n",
        "w_u2 = np.array([0.43, -0.19])\n",
        "\n"
      ],
      "execution_count": 0,
      "outputs": []
    },
    {
      "cell_type": "markdown",
      "metadata": {
        "id": "oIgrfTqDKihX",
        "colab_type": "text"
      },
      "source": [
        "## 使用するデータを開こう"
      ]
    },
    {
      "cell_type": "code",
      "metadata": {
        "id": "mhqhVZSTKj9z",
        "colab_type": "code",
        "colab": {}
      },
      "source": [
        "# データを準備\n",
        "data_file = open(\"gaibu_data.csv\", \"r\", encoding = \"UTF-8\")\n",
        "\n",
        "# forメソッドを使ってリスト化\n",
        "for line in data_file:\n",
        "    line = line.rstrip(\"\\n\").split(\",\")\n",
        "    data.append([float(line[0]), float(line[1]), float(line[2]), float(line[3]), float(line[4])])\n",
        "\n",
        "# データを閉じる\n",
        "data_file.close()\n",
        "\n"
      ],
      "execution_count": 0,
      "outputs": []
    },
    {
      "cell_type": "markdown",
      "metadata": {
        "id": "TZCBSPUXNlKt",
        "colab_type": "text"
      },
      "source": [
        "## ステップ関数を定義しよう\n"
      ]
    },
    {
      "cell_type": "code",
      "metadata": {
        "id": "-wrohalNLdDx",
        "colab_type": "code",
        "colab": {}
      },
      "source": [
        "# 関数を定義しよう\n",
        "def step(x):\n",
        "    y = x > 0\n",
        "    return y.astype(np.int)"
      ],
      "execution_count": 0,
      "outputs": []
    },
    {
      "cell_type": "markdown",
      "metadata": {
        "id": "6cdP5DmDztZs",
        "colab_type": "text"
      },
      "source": [
        "##ニューラルネットワークを構築しよう"
      ]
    },
    {
      "cell_type": "code",
      "metadata": {
        "id": "dU5biomKzyUC",
        "colab_type": "code",
        "colab": {
          "base_uri": "https://localhost:8080/",
          "height": 85
        },
        "outputId": "8506ad45-f49f-49c7-8607-4cc0efe7931f"
      },
      "source": [
        "# numpyを使って計算\n",
        "\n",
        "print(data)\n",
        "\n",
        "\n",
        "for x in data:\n",
        "    U1 = np.dot(x, w_x)\n",
        "    Z1 = step(U1)\n",
        "    U2 = np.dot(Z1, w_u1)\n",
        "    Z2 = step(U2)\n",
        "    U3 = np.dot(Z2, w_u2)\n",
        "    y = step(U3)\n",
        "\n",
        "    # 条件分岐してprint\n",
        "    if y == 0:\n",
        "        print(\"あなたは女性的な思想です。\")\n",
        "    else:\n",
        "        print(\"あなたは男性的な思想です。\")"
      ],
      "execution_count": 68,
      "outputs": [
        {
          "output_type": "stream",
          "text": [
            "[[1.0, 0.0, 1.0, 0.0, 1.0], [0.0, 1.0, 0.0, 1.0, 0.0], [1.0, 0.0, 0.0, 1.0, 1.0]]\n",
            "あなたは男性的な思想です。\n",
            "あなたは女性的な思想です。\n",
            "あなたは男性的な思想です。\n"
          ],
          "name": "stdout"
        }
      ]
    }
  ]
}