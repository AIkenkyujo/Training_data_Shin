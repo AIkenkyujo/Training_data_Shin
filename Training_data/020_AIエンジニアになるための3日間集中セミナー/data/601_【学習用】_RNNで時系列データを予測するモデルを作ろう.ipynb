{
  "nbformat": 4,
  "nbformat_minor": 0,
  "metadata": {
    "colab": {
      "name": "601_【学習用】_RNNで時系列データを予測するモデルを作ろう.ipynb",
      "provenance": []
    },
    "kernelspec": {
      "name": "python3",
      "display_name": "Python 3"
    }
  },
  "cells": [
    {
      "cell_type": "markdown",
      "metadata": {
        "id": "59m1_ZUvT8FF",
        "colab_type": "text"
      },
      "source": [
        "# RNNで時系列データを予測するモデルを作ろう"
      ]
    },
    {
      "cell_type": "markdown",
      "metadata": {
        "id": "S677vdlOT0ob",
        "colab_type": "text"
      },
      "source": [
        "## データの読み込み"
      ]
    },
    {
      "cell_type": "code",
      "metadata": {
        "id": "VdTDYnLCdFMj",
        "colab_type": "code",
        "colab": {}
      },
      "source": [
        ""
      ],
      "execution_count": 0,
      "outputs": []
    },
    {
      "cell_type": "markdown",
      "metadata": {
        "id": "fbm59kiETs9Y",
        "colab_type": "text"
      },
      "source": [
        "## 空のリストを用意しデータを格納"
      ]
    },
    {
      "cell_type": "code",
      "metadata": {
        "id": "6MP6RiQkTr0i",
        "colab_type": "code",
        "colab": {}
      },
      "source": [
        ""
      ],
      "execution_count": 0,
      "outputs": []
    },
    {
      "cell_type": "markdown",
      "metadata": {
        "id": "Ln44sYRhMcGC",
        "colab_type": "text"
      },
      "source": [
        "## RNNの入力形式に変更"
      ]
    },
    {
      "cell_type": "code",
      "metadata": {
        "id": "xr2SY1ZfeUXJ",
        "colab_type": "code",
        "outputId": "8bc09371-8fa7-4976-d0b8-f8cc19c2d98f",
        "colab": {
          "base_uri": "https://localhost:8080/",
          "height": 34
        }
      },
      "source": [
        ""
      ],
      "execution_count": 0,
      "outputs": [
        {
          "output_type": "execute_result",
          "data": {
            "text/plain": [
              "1"
            ]
          },
          "metadata": {
            "tags": []
          },
          "execution_count": 74
        }
      ]
    },
    {
      "cell_type": "markdown",
      "metadata": {
        "id": "IHJ75kMSc4re",
        "colab_type": "text"
      },
      "source": [
        "## 学習用データとテストデータに分割"
      ]
    },
    {
      "cell_type": "code",
      "metadata": {
        "id": "pxS0rGdmQZAa",
        "colab_type": "code",
        "colab": {}
      },
      "source": [
        ""
      ],
      "execution_count": 0,
      "outputs": []
    },
    {
      "cell_type": "markdown",
      "metadata": {
        "id": "wodLD9y_MzbR",
        "colab_type": "text"
      },
      "source": [
        "## LSTMのモデルを作成しよう"
      ]
    },
    {
      "cell_type": "code",
      "metadata": {
        "id": "GgJ_ZR8Cf6r_",
        "colab_type": "code",
        "colab": {}
      },
      "source": [
        "from keras.models import Sequential\n",
        "from keras.layers.core import Dense, Activation\n",
        "from keras.layers.recurrent import LSTM\n",
        "from keras.optimizers import Adam\n",
        "\n",
        "# LSTMモデルを定義\n"
      ],
      "execution_count": 0,
      "outputs": []
    },
    {
      "cell_type": "markdown",
      "metadata": {
        "id": "fimTDn-ATSe9",
        "colab_type": "text"
      },
      "source": [
        "## 学習を実行しよう"
      ]
    },
    {
      "cell_type": "code",
      "metadata": {
        "id": "3itNfs60f-He",
        "colab_type": "code",
        "colab": {}
      },
      "source": [
        ""
      ],
      "execution_count": 0,
      "outputs": []
    },
    {
      "cell_type": "markdown",
      "metadata": {
        "id": "4XBHUx3OTXg0",
        "colab_type": "text"
      },
      "source": [
        "## 予測値を計算しグラフ描画で可視化しよう"
      ]
    },
    {
      "cell_type": "code",
      "metadata": {
        "id": "fUr8Au8_gAIZ",
        "colab_type": "code",
        "colab": {}
      },
      "source": [
        ""
      ],
      "execution_count": 0,
      "outputs": []
    },
    {
      "cell_type": "code",
      "metadata": {
        "id": "lNVfuQCBgIqI",
        "colab_type": "code",
        "colab": {}
      },
      "source": [
        ""
      ],
      "execution_count": 0,
      "outputs": []
    }
  ]
}